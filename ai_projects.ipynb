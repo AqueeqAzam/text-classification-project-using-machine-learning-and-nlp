{
  "nbformat": 4,
  "nbformat_minor": 0,
  "metadata": {
    "colab": {
      "provenance": [],
      "authorship_tag": "ABX9TyNY3hYAUNOkiuN/110yUeQ4",
      "include_colab_link": true
    },
    "kernelspec": {
      "name": "python3",
      "display_name": "Python 3"
    },
    "language_info": {
      "name": "python"
    }
  },
  "cells": [
    {
      "cell_type": "markdown",
      "metadata": {
        "id": "view-in-github",
        "colab_type": "text"
      },
      "source": [
        "<a href=\"https://colab.research.google.com/github/AqueeqAzam/text-classification-project-using-machine-learning-and-nlp/blob/main/ai_projects.ipynb\" target=\"_parent\"><img src=\"https://colab.research.google.com/assets/colab-badge.svg\" alt=\"Open In Colab\"/></a>"
      ]
    },
    {
      "cell_type": "markdown",
      "source": [
        "# `Text Classification Project using machine learning and nlp`"
      ],
      "metadata": {
        "id": "T7Qs3d36thYx"
      }
    },
    {
      "cell_type": "markdown",
      "source": [
        "`import library`"
      ],
      "metadata": {
        "id": "0Bi30Cuj2PBl"
      }
    },
    {
      "cell_type": "code",
      "source": [
        "import spacy"
      ],
      "metadata": {
        "id": "eRpEtwChtguE"
      },
      "execution_count": 12,
      "outputs": []
    },
    {
      "cell_type": "markdown",
      "source": [
        "`load spacy model`"
      ],
      "metadata": {
        "id": "I9OP6UY8tuFb"
      }
    },
    {
      "cell_type": "code",
      "source": [
        "nlp = spacy.load('en_core_web_sm')"
      ],
      "metadata": {
        "id": "7MwtyGUHtrEc"
      },
      "execution_count": 13,
      "outputs": []
    },
    {
      "cell_type": "markdown",
      "source": [
        "`process user input`"
      ],
      "metadata": {
        "id": "k9RFUHke2IkK"
      }
    },
    {
      "cell_type": "code",
      "source": [
        "def process_input(input_text):\n",
        "  doc = nlp(input_text)\n",
        "  return [token.text for token in doc]\n"
      ],
      "metadata": {
        "id": "jtfDGwSnuAya"
      },
      "execution_count": 14,
      "outputs": []
    },
    {
      "cell_type": "markdown",
      "source": [
        "`Text classify function `"
      ],
      "metadata": {
        "id": "W3q1PKIsw_pI"
      }
    },
    {
      "cell_type": "code",
      "source": [
        "from sklearn.feature_extraction.text import TfidfVectorizer\n",
        "from sklearn.ensemble import RandomForestClassifier\n",
        "\n",
        "# Define a function to classify text\n",
        "def classify_text(input_text):\n",
        "  processed_input = process_input(input_text)\n",
        "  vect = TfidfVectorizer()\n",
        "\n",
        "  # Fit the vectorizer on some training data (replace with your actual training data)\n",
        "  x_train = vect.fit_transform([\"This is a positive sentence.\", \"This is a negative sentence.\"])\n",
        "  y_train = ['positive', 'negative']\n",
        "\n",
        "  # Transform the input text using the fitted vectorizer\n",
        "  x = vect.transform([\" \".join(processed_input)])\n",
        "\n",
        "  model = RandomForestClassifier()\n",
        "\n",
        "  # Train the model\n",
        "  model.fit(x_train, y_train)\n",
        "\n",
        "  classification = model.predict(x)\n",
        "  return classification[0]\n",
        "\n",
        "\n"
      ],
      "metadata": {
        "id": "km6gF652xHVj"
      },
      "execution_count": 18,
      "outputs": []
    },
    {
      "cell_type": "markdown",
      "source": [
        "`Get user input`"
      ],
      "metadata": {
        "id": "xV69jMwZy-ED"
      }
    },
    {
      "cell_type": "code",
      "source": [
        "input_text = input(\"Enter a text: \")\n",
        "\n",
        "# classify the text\n",
        "\n",
        "classification = classify_text(input_text)\n",
        "\n",
        "# print the classification\n",
        "print(\"Classification:\", classification)\n",
        "\n",
        "# Define a dictionary to map classification to description\n",
        "\n",
        "classification_dict = {\n",
        "    'positive': 'This text is positive.',\n",
        "    'negative': 'This text is negative.'\n",
        "}\n",
        "\n",
        "# Print the description associated with the classification\n",
        "print(classification_dict[classification])\n"
      ],
      "metadata": {
        "colab": {
          "base_uri": "https://localhost:8080/"
        },
        "id": "OtC2ZLHazDDN",
        "outputId": "01e039e6-514d-4164-9fcc-ea1102b08986"
      },
      "execution_count": 19,
      "outputs": [
        {
          "output_type": "stream",
          "name": "stdout",
          "text": [
            "Enter a text: i am good\n",
            "Classification: positive\n",
            "This text is positive.\n"
          ]
        }
      ]
    }
  ]
}